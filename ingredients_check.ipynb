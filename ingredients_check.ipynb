{
 "cells": [
  {
   "cell_type": "code",
   "execution_count": 14,
   "metadata": {},
   "outputs": [
    {
     "name": "stderr",
     "output_type": "stream",
     "text": [
      "c:\\Users\\Diana\\OneDrive\\Documents\\ingridientsGPT\\venv\\Lib\\site-packages\\pydantic\\json_schema.py:2191: PydanticJsonSchemaWarning: Default value default=PydanticUndefined description='The name of the toothpaste ingredient being evaluated.' extra={} is not JSON serializable; excluding default from JSON schema [non-serializable-default]\n",
      "  warnings.warn(message, PydanticJsonSchemaWarning)\n",
      "c:\\Users\\Diana\\OneDrive\\Documents\\ingridientsGPT\\venv\\Lib\\site-packages\\pydantic\\json_schema.py:2191: PydanticJsonSchemaWarning: Default value default=PydanticUndefined description='Whether the ingredient is safe to use in toothpaste (True or False).' extra={} is not JSON serializable; excluding default from JSON schema [non-serializable-default]\n",
      "  warnings.warn(message, PydanticJsonSchemaWarning)\n",
      "c:\\Users\\Diana\\OneDrive\\Documents\\ingridientsGPT\\venv\\Lib\\site-packages\\pydantic\\json_schema.py:2191: PydanticJsonSchemaWarning: Default value default=PydanticUndefined description='A brief explanation of why the ingredient is safe or unsafe.' extra={} is not JSON serializable; excluding default from JSON schema [non-serializable-default]\n",
      "  warnings.warn(message, PydanticJsonSchemaWarning)\n"
     ]
    },
    {
     "name": "stdout",
     "output_type": "stream",
     "text": [
      "name='Propylene Glycol' is_safe=True explanation=\"Propylene glycol is a common ingredient in many personal care products, including toothpaste. It's generally considered safe for use in small amounts as a humectant and solvent. However, high concentrations or prolonged exposure can cause skin irritation and other adverse effects. In the context of toothpaste, propylene glycol is typically used at low levels (around 1-2%) and is not expected to pose significant risks to oral health.\"\n"
     ]
    }
   ],
   "source": [
    "from langchain_core.prompts import PromptTemplate\n",
    "from langchain.pydantic_v1 import  Field, validator\n",
    "from pydantic import BaseModel\n",
    "from langchain_ollama import ChatOllama\n",
    "from langchain.output_parsers import  PydanticOutputParser\n",
    "\n",
    "# Initialize the ChatOllama object\n",
    "llm = ChatOllama(\n",
    "    model = \"llama3.1\",\n",
    "    temperature = 0,\n",
    ")\n",
    "\n",
    "# Define your desired data structure with improved descriptions\n",
    "class Ingredient(BaseModel):\n",
    "    name: str = Field(description=\"The name of the toothpaste ingredient being evaluated.\")\n",
    "    is_safe: bool = Field(description=\"Whether the ingredient is safe to use in toothpaste (True or False).\")\n",
    "    explanation: str = Field(description=\"A brief explanation of why the ingredient is safe or unsafe.\")\n",
    "\n",
    "    @validator(\"is_safe\")\n",
    "    def safety_must_be_boolean(cls, field):\n",
    "        if not isinstance(field, bool):\n",
    "            raise ValueError(\"Safety must be a boolean value (True or False)!\")\n",
    "        return field\n",
    "\n",
    "\n",
    "# Set up the parser\n",
    "parser = PydanticOutputParser(pydantic_object=Ingredient)\n",
    "\n",
    "prompt_template = \"\"\"You are a dental health expert tasked with evaluating the safety of toothpaste ingredients.\n",
    "\n",
    "Instructions:\n",
    "1. Evaluate the safety of the given toothpaste ingredient.\n",
    "2. Determine if it's safe to use in toothpaste.\n",
    "3. Provide a brief explanation for your safety assessment.\n",
    "\n",
    "Format your response according to these instructions:\n",
    "{format_instructions}\n",
    "\n",
    "Now, please evaluate the safety of this toothpaste ingredient: {query}\n",
    "\"\"\"\n",
    "\n",
    "# Improved prompt template\n",
    "prompt = PromptTemplate(\n",
    "    template=prompt_template,\n",
    "    input_variables=[\"query\"],\n",
    "    partial_variables={\"format_instructions\": parser.get_format_instructions()},\n",
    ")\n",
    "\n",
    "# Create the chain\n",
    "chain = prompt | llm | parser\n",
    "\n",
    "# Query for ingredient safety\n",
    "ingredient_query = \"Propylene Glycol\"\n",
    "result = chain.invoke({\"query\": ingredient_query})\n",
    "print(result)"
   ]
  }
 ],
 "metadata": {
  "kernelspec": {
   "display_name": "venv",
   "language": "python",
   "name": "python3"
  },
  "language_info": {
   "codemirror_mode": {
    "name": "ipython",
    "version": 3
   },
   "file_extension": ".py",
   "mimetype": "text/x-python",
   "name": "python",
   "nbconvert_exporter": "python",
   "pygments_lexer": "ipython3",
   "version": "3.12.5"
  }
 },
 "nbformat": 4,
 "nbformat_minor": 2
}
